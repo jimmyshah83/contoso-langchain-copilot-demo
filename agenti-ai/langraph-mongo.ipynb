{
 "cells": [
  {
   "cell_type": "code",
   "execution_count": null,
   "id": "fe301c89",
   "metadata": {},
   "outputs": [],
   "source": [
    "%%capture --no-stderr\n",
    "%pip install --quiet -U langgraph langchain-community langchain-openai pymongo[srv]==3.12"
   ]
  },
  {
   "cell_type": "code",
   "execution_count": 1,
   "id": "48fdf037",
   "metadata": {},
   "outputs": [
    {
     "data": {
      "text/plain": [
       "True"
      ]
     },
     "execution_count": 1,
     "metadata": {},
     "output_type": "execute_result"
    }
   ],
   "source": [
    "from dotenv import load_dotenv\n",
    "\n",
    "# Load environment variables from .env file\n",
    "load_dotenv()"
   ]
  },
  {
   "cell_type": "markdown",
   "id": "97129ccc",
   "metadata": {},
   "source": [
    "## Define tools"
   ]
  },
  {
   "cell_type": "code",
   "execution_count": 2,
   "id": "76b904f1",
   "metadata": {},
   "outputs": [],
   "source": [
    "from langchain_core.messages import AIMessage\n",
    "from langgraph.prebuilt import ToolNode\n",
    "from langchain_core.tools import tool\n",
    "from pymongo import MongoClient\n",
    "from datetime import datetime\n",
    "\n",
    "import os\n",
    "import json\n",
    "from bson import json_util\n",
    "\n",
    "# Define tools\n",
    "@tool\n",
    "def get_sales_data(query: dict = None):\n",
    "    \"\"\"Get sales data from MongoDB using flexible query parameters.\n",
    "    \n",
    "    Args:\n",
    "        query: Custom MongoDB query dict to execute directly\n",
    "    \"\"\"    \n",
    "    \n",
    "    mongo_query = query\n",
    "    \n",
    "    uri = os.getenv(\"MONGODB_URI\")\n",
    "    if not uri:\n",
    "        return \"Error: MongoDB URI not found in environment variables\"\n",
    "        \n",
    "    try:\n",
    "        client = MongoClient(uri)\n",
    "        database = client.get_database(\"mongodbVSCodePlaygroundDB\")\n",
    "        collection = database.get_collection(\"sales\")\n",
    "        \n",
    "        # Execute the query with options\n",
    "        cursor = collection.find(mongo_query)\n",
    "        sales_data = list(cursor)\n",
    "        \n",
    "        # Convert results to a readable format (handle MongoDB ObjectId and Date objects)\n",
    "        results = json.loads(json_util.dumps(sales_data))\n",
    "        \n",
    "        client.close()\n",
    "        \n",
    "        if not sales_data:\n",
    "            return f\"No sales found for query: {mongo_query}\"  \n",
    "        \n",
    "        return {\n",
    "            \"count\": len(sales_data),\n",
    "            \"query\": mongo_query,\n",
    "            \"sales\": results\n",
    "        }\n",
    "    \n",
    "    except Exception as e:\n",
    "        return f\"Error retrieving sales data: {str(e)}\""
   ]
  },
  {
   "cell_type": "code",
   "execution_count": 3,
   "id": "c0696461",
   "metadata": {},
   "outputs": [
    {
     "name": "stdout",
     "output_type": "stream",
     "text": [
      "\n",
      "Method using AIMessage with tool calls\n",
      "Tool node result: {'messages': [ToolMessage(content='{\"count\": 2, \"query\": {\"item\": \"xyz\"}, \"sales\": [{\"_id\": {\"$oid\": \"6837860f55e9e6698ee5a770\"}, \"item\": \"xyz\", \"price\": 5, \"quantity\": 10, \"date\": {\"$date\": \"2014-03-15T09:00:00Z\"}}, {\"_id\": {\"$oid\": \"6837860f55e9e6698ee5a771\"}, \"item\": \"xyz\", \"price\": 5, \"quantity\": 20, \"date\": {\"$date\": \"2014-04-04T11:21:39.736Z\"}}]}', name='get_sales_data', tool_call_id='1')]}\n",
      "Tool node result: {'messages': [ToolMessage(content='{\"count\": 2, \"query\": {\"item\": \"xyz\"}, \"sales\": [{\"_id\": {\"$oid\": \"6837860f55e9e6698ee5a770\"}, \"item\": \"xyz\", \"price\": 5, \"quantity\": 10, \"date\": {\"$date\": \"2014-03-15T09:00:00Z\"}}, {\"_id\": {\"$oid\": \"6837860f55e9e6698ee5a771\"}, \"item\": \"xyz\", \"price\": 5, \"quantity\": 20, \"date\": {\"$date\": \"2014-04-04T11:21:39.736Z\"}}]}', name='get_sales_data', tool_call_id='1')]}\n"
     ]
    }
   ],
   "source": [
    "from langchain_core.messages import AIMessage\n",
    "\n",
    "# Create a tool node with the get_sales_data tool\n",
    "tool_node = ToolNode([get_sales_data])\n",
    "\n",
    "# Test with a query for 2014 sales\n",
    "query = {'item': 'xyz'}\n",
    "\n",
    "print(\"\\nMethod using AIMessage with tool calls\")\n",
    "tool_call_message = AIMessage(\n",
    "    content=\"\",\n",
    "    tool_calls=[\n",
    "        {\n",
    "            \"id\": \"1\",\n",
    "            \"type\": \"function\",\n",
    "            \"name\": \"get_sales_data\",\n",
    "            \"args\": {\n",
    "                \"query\": query\n",
    "            }\n",
    "        }\n",
    "    ]\n",
    ")\n",
    "\n",
    "result = tool_node.invoke({\"messages\": [tool_call_message]})\n",
    "print(\"Tool node result: \" + str(result))"
   ]
  },
  {
   "cell_type": "markdown",
   "id": "18d0b798",
   "metadata": {},
   "source": [
    "## Define MongoDB Query Agent"
   ]
  },
  {
   "cell_type": "code",
   "execution_count": 4,
   "id": "57ead0e2",
   "metadata": {},
   "outputs": [],
   "source": [
    "from typing import Literal\n",
    "from langchain_openai import AzureChatOpenAI\n",
    "from langgraph.types import Command\n",
    "\n",
    "def mongo_query_agent(state) -> Command[Literal[\"__end__\"]]:\n",
    "    \"\"\"Agent that processes user queries about sales data and uses LLM to generate a mongo query based on schema.\"\"\"\n",
    "    \n",
    "    # Extract the user message\n",
    "    user_message = state[\"messages\"][-1].content\n",
    "    \n",
    "    # Define the MongoDB schema for the LLM\n",
    "    schema_info = \"\"\"\n",
    "    MongoDB Collection Schema:\n",
    "    {\n",
    "        'item': string,      // Product identifier like 'abc', 'xyz', etc.\n",
    "        'price': number,     // Price of the item (e.g., 10, 7.5)\n",
    "        'quantity': number,  // Number of items sold (e.g., 5, 10)\n",
    "        'date': Date     // Date of the sale in ISO format \n",
    "    }\n",
    "    \"\"\"\n",
    "\n",
    "    # Create system prompt for the LLM\n",
    "    system_prompt = f\"\"\"\n",
    "        You are a MongoDB query assistant. Based on user requests, generate appropriate MongoDB queries.\n",
    "        {schema_info}\n",
    "\n",
    "        Analyze the user query, determine what information they need from the sales data, and formulate a MongoDB query dictionary.\n",
    "        Your response should be a valid Python dictionary that can be used as a MongoDB query.\n",
    "        \n",
    "        For example, if the user asks about sales in 2014, you might return: \n",
    "        {{'date': {{'$gte': datetime(2014, 1, 1), '$lt': datetime(2015, 1, 1)}}}}\n",
    "        \n",
    "        If they ask about an item 'xyz', you might return:\n",
    "        {{'item': 'xyz'}}\n",
    "        \n",
    "        Be specific and precise with your queries.\n",
    "        \"\"\"\n",
    "\n",
    "    # Call the LLM to analyze the user query\n",
    "    llm = AzureChatOpenAI(\n",
    "        azure_endpoint=os.environ[\"AZURE_OPENAI_ENDPOINT\"],\n",
    "        azure_deployment=os.environ[\"AZURE_OPENAI_DEPLOYMENT_NAME\"],\n",
    "        openai_api_version=\"2024-12-01-preview\",\n",
    "    )\n",
    "    \n",
    "    chat_prompt = [{\"role\": \"system\", \"content\": system_prompt}, \n",
    "                  {\"role\": \"user\", \"content\": f\"Generate a MongoDB query for: {user_message}\"}]\n",
    "    \n",
    "    llm_response = llm.invoke(chat_prompt)\n",
    "    query_str = llm_response.content\n",
    "    \n",
    "    print(\"Generated MongoDB query:\", query_str)\n",
    "    \n",
    "    # Return the result with a tool call to get_sales_data\n",
    "    return {\"messages\": state[\"messages\"] + [AIMessage(\n",
    "        content=\"\",\n",
    "        tool_calls=[\n",
    "            {\n",
    "                \"id\": \"1\",\n",
    "                \"type\": \"function\",\n",
    "                \"name\": \"get_sales_data\",\n",
    "                \"args\": {\n",
    "                    \"query\": eval(query_str)  # Convert string representation to dict\n",
    "                }\n",
    "            }\n",
    "        ]\n",
    "    )]}"
   ]
  },
  {
   "cell_type": "markdown",
   "id": "34a5a945",
   "metadata": {},
   "source": [
    "## build the graph"
   ]
  },
  {
   "cell_type": "code",
   "execution_count": 5,
   "id": "188e51e3",
   "metadata": {},
   "outputs": [],
   "source": [
    "from langgraph.graph import StateGraph, MessagesState, START\n",
    "\n",
    "# Build the graph\n",
    "builder = StateGraph(MessagesState)\n",
    "builder.add_node(\"mongo_query_agent\", mongo_query_agent)\n",
    "builder.add_node(\"tool_executor\", tool_node)\n",
    "\n",
    "builder.add_edge(START, \"mongo_query_agent\")\n",
    "builder.add_edge(\"mongo_query_agent\", \"tool_executor\")\n",
    "builder.add_edge(\"tool_executor\", \"__end__\")\n",
    "\n",
    "network = builder.compile()"
   ]
  },
  {
   "cell_type": "code",
   "execution_count": 6,
   "id": "70cf6f41",
   "metadata": {},
   "outputs": [
    {
     "data": {
      "image/png": "[encoded data removed]",
      "text/plain": [
       "<IPython.core.display.Image object>"
      ]
     },
     "metadata": {},
     "output_type": "display_data"
    }
   ],
   "source": [
    "from IPython.display import Image, display\n",
    "from langchain_core.runnables.graph import CurveStyle, MermaidDrawMethod, NodeStyles\n",
    "\n",
    "display(\n",
    "    Image(\n",
    "        network.get_graph().draw_mermaid_png(\n",
    "            draw_method=MermaidDrawMethod.API,\n",
    "        )\n",
    "    )\n",
    ")"
   ]
  },
  {
   "cell_type": "code",
   "execution_count": 7,
   "id": "6bb1531d",
   "metadata": {},
   "outputs": [
    {
     "name": "stdout",
     "output_type": "stream",
     "text": [
      "Generated MongoDB query: ```python\n",
      "{\n",
      "    'item': 'xyz',\n",
      "    'date': {\n",
      "        '$gte': datetime(2014, 1, 1),\n",
      "        '$lt': datetime(2015, 1, 1)\n",
      "    }\n",
      "}\n",
      "```\n"
     ]
    },
    {
     "ename": "SyntaxError",
     "evalue": "invalid syntax (<string>, line 1)",
     "output_type": "error",
     "traceback": [
      "Traceback \u001b[36m(most recent call last)\u001b[39m:\n",
      "  File \u001b[92m~/workspace/contoso-langchain-copilot-demo/.venv/lib/python3.13/site-packages/IPython/core/interactiveshell.py:3667\u001b[39m in \u001b[95mrun_code\u001b[39m\n    exec(code_obj, self.user_global_ns, self.user_ns)\n",
      "  Cell \u001b[92mIn[7]\u001b[39m\u001b[92m, line 5\u001b[39m\n    response = network.invoke({\"messages\": [HumanMessage(content=\"How many xyz items were sold in 2014?\")]})\n",
      "  File \u001b[92m~/workspace/contoso-langchain-copilot-demo/.venv/lib/python3.13/site-packages/langgraph/pregel/__init__.py:2719\u001b[39m in \u001b[95minvoke\u001b[39m\n    for chunk in self.stream(\n",
      "  File \u001b[92m~/workspace/contoso-langchain-copilot-demo/.venv/lib/python3.13/site-packages/langgraph/pregel/__init__.py:2436\u001b[39m in \u001b[95mstream\u001b[39m\n    for _ in runner.tick(\n",
      "\u001b[36m  \u001b[39m\u001b[36mCell\u001b[39m\u001b[36m \u001b[39m\u001b[32mIn[4]\u001b[39m\u001b[32m, line 63\u001b[39m\u001b[36m in \u001b[39m\u001b[35mmongo_query_agent\u001b[39m\n\u001b[31m    \u001b[39m\u001b[31m\"query\": eval(query_str)  # Convert string representation to dict\u001b[39m\n",
      "  \u001b[36mFile \u001b[39m\u001b[32m<string>:1\u001b[39m\n\u001b[31m    \u001b[39m\u001b[31m```python\u001b[39m\n    ^\n\u001b[31mSyntaxError\u001b[39m\u001b[31m:\u001b[39m invalid syntax\nDuring task with name 'mongo_query_agent' and id '851ca1e8-bbc4-4b23-1fd4-527af6622a83'\n"
     ]
    }
   ],
   "source": [
    "# Test the agent with some example queries\n",
    "from langchain_core.messages import HumanMessage\n",
    "\n",
    "# Example: Query for a specific item in 2014\n",
    "response = network.invoke({\"messages\": [HumanMessage(content=\"How many xyz items were sold in 2014?\")]})\n",
    "print(\"\\nQuery Response:\")\n",
    "print(response[\"messages\"][-1].content)"
   ]
  }
 ],
 "metadata": {
  "kernelspec": {
   "display_name": ".venv (3.13.3)",
   "language": "python",
   "name": "python3"
  },
  "language_info": {
   "codemirror_mode": {
    "name": "ipython",
    "version": 3
   },
   "file_extension": ".py",
   "mimetype": "text/x-python",
   "name": "python",
   "nbconvert_exporter": "python",
   "pygments_lexer": "ipython3",
   "version": "3.13.3"
  }
 },
 "nbformat": 4,
 "nbformat_minor": 5
}
