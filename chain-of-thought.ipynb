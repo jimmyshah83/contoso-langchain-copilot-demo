{
 "cells": [
  {
   "cell_type": "code",
   "execution_count": 1,
   "metadata": {},
   "outputs": [],
   "source": [
    "import os\n",
    "\n",
    "os.environ[\"LANGCHAIN_TRACING_V2\"] = \"true\"\n",
    "os.environ[\"LANGCHAIN_API_KEY\"] = \"ls__632ae1a420dc4b46b2894dd749f33b2e\"\n",
    "\n",
    "os.environ[\"TAVILY_API_KEY\"] = \"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\"\n",
    "\n",
    "os.environ[\"AZURE_OPENAI_ENDPOINT\"] = \"https://js-playground-01.openai.azure.com/\"\n",
    "os.environ[\"AZURE_OPENAI_API_KEY\"] = \"43d936898d7645c3b3c1ebf294f04cd3\""
   ]
  },
  {
   "cell_type": "code",
   "execution_count": 2,
   "metadata": {},
   "outputs": [],
   "source": [
    "from langchain import hub\n",
    "from langchain_openai import AzureChatOpenAI\n",
    "from langchain.chains import LLMChain"
   ]
  },
  {
   "cell_type": "code",
   "execution_count": 3,
   "metadata": {},
   "outputs": [
    {
     "name": "stdout",
     "output_type": "stream",
     "text": [
      "I’m going to ask you a question. I want you to decompose it into a series of subquestions. Each subquestion should be self-contained with all the information necessary to solve it.\n",
      "\n",
      "Make sure not to decompose more than necessary or have any trivial subquestions - you’ll be evaluated on the simplicity, conciseness, and correctness of your decompositions as well as your final answer. You should wrap each subquestion in <sub q></sub q> tags. After each subquestion, you should answer the subquestion and put your subanswer in <sub a></sub a> tags.\n",
      "\n",
      " Once you have all the information you need to answer the question, output <FIN></FIN> tags.\n",
      "\n",
      "example:\n",
      "Question: What is Bitcoin?\n",
      "<sub q>What is the purpose of Bitcoin?</sub q>\n",
      "<sub a>Bitcoin serves as a decentralized digital currency.</sub a>\n",
      "<sub q>What does decentralized mean?</sub q>\n",
      "<sub a>Decentralized means it operates without a central authority or single administrator.</sub a>\n",
      "<FIN>Bitcoin is a decentralized digital currency that operates without a central authority.</FIN>\n",
      "\n",
      "Question: \u001b[33;1m\u001b[1;3m{question}\u001b[0m\n"
     ]
    }
   ],
   "source": [
    "# Get the prompt to use - you can modify this!\n",
    "prompt = hub.pull(\"hesencuc/question-decomposition\")\n",
    "prompt.pretty_print()"
   ]
  },
  {
   "cell_type": "code",
   "execution_count": 4,
   "metadata": {},
   "outputs": [],
   "source": [
    "# Choose the LLM that will drive the agent\n",
    "llm = AzureChatOpenAI(\n",
    "    openai_api_version=\"2023-05-15\",\n",
    "    azure_deployment=\"gpt4-32k\",\n",
    "    temperature=0.7,\n",
    ")"
   ]
  },
  {
   "cell_type": "code",
   "execution_count": 5,
   "metadata": {},
   "outputs": [],
   "source": [
    "chain = prompt | llm"
   ]
  },
  {
   "cell_type": "code",
   "execution_count": 6,
   "metadata": {},
   "outputs": [
    {
     "data": {
      "text/plain": [
       "AIMessage(content='<sub q>What factors influence life insurance policy ratings?</sub q>\\n<sub a>Life insurance policy ratings are influenced by factors such as age, smoking habits, general health status, and lifestyle.</sub a>\\n<sub q>How does age affect life insurance policy ratings?</sub q>\\n<sub a>Age affects life insurance policy ratings as the older an individual, the higher the risk, and therefore the higher the premium.</sub a>\\n<sub q>How does smoking affect life insurance policy ratings?</sub q>\\n<sub a>Smoking drastically affects life insurance policy ratings as it increases health risks such as cancer and heart disease, leading to higher premiums.</sub a>\\n<sub q>Given the age of 51 and smoking habit of 15 cigars a year, what would be the expected life insurance policy rating?</sub q>\\n<sub a>The expected life insurance policy rating for a 51-year-old male who smokes 15 cigars a year would be a higher-risk category due to the increased health risks associated with smoking and age.</sub a>\\n<FIN>A 51 year old male who smokes 15 cigars a year should be given a higher-risk life insurance policy rating due to the increased health risks associated with his age and smoking habits.</FIN>', response_metadata={'token_usage': {'completion_tokens': 259, 'prompt_tokens': 268, 'total_tokens': 527}, 'model_name': 'gpt-4-32k', 'system_fingerprint': None, 'finish_reason': 'stop', 'logprobs': None, 'content_filter_results': {}})"
      ]
     },
     "execution_count": 6,
     "metadata": {},
     "output_type": "execute_result"
    }
   ],
   "source": [
    "chain.invoke({\"question\": \"A 51 year old male who smokes 15 cigars a year. What life insurance policy rating should be given to this person? \"}) "
   ]
  }
 ],
 "metadata": {
  "kernelspec": {
   "display_name": ".venv",
   "language": "python",
   "name": "python3"
  },
  "language_info": {
   "codemirror_mode": {
    "name": "ipython",
    "version": 3
   },
   "file_extension": ".py",
   "mimetype": "text/x-python",
   "name": "python",
   "nbconvert_exporter": "python",
   "pygments_lexer": "ipython3",
   "version": "3.12.2"
  }
 },
 "nbformat": 4,
 "nbformat_minor": 2
}
