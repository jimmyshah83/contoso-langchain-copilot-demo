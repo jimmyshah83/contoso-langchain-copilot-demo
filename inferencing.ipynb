{
 "cells": [
  {
   "cell_type": "code",
   "execution_count": 2,
   "metadata": {},
   "outputs": [
    {
     "name": "stdout",
     "output_type": "stream",
     "text": [
      "The dotenv extension is already loaded. To reload it, use:\n",
      "  %reload_ext dotenv\n"
     ]
    }
   ],
   "source": [
    "%load_ext dotenv\n",
    "%dotenv"
   ]
  },
  {
   "cell_type": "code",
   "execution_count": 3,
   "metadata": {},
   "outputs": [],
   "source": [
    "from langchain import hub\n",
    "from langchain_openai import AzureChatOpenAI\n",
    "from langchain.chains import LLMChain"
   ]
  },
  {
   "cell_type": "code",
   "execution_count": 4,
   "metadata": {},
   "outputs": [
    {
     "name": "stdout",
     "output_type": "stream",
     "text": [
      "I’m going to ask you a question. I want you to decompose it into a series of subquestions. Each subquestion should be self-contained with all the information necessary to solve it.\n",
      "\n",
      "Make sure not to decompose more than necessary or have any trivial subquestions - you’ll be evaluated on the simplicity, conciseness, and correctness of your decompositions as well as your final answer. You should wrap each subquestion in <sub q></sub q> tags. After each subquestion, you should answer the subquestion and put your subanswer in <sub a></sub a> tags.\n",
      "\n",
      " Once you have all the information you need to answer the question, output <FIN></FIN> tags.\n",
      "\n",
      "example:\n",
      "Question: What is Bitcoin?\n",
      "<sub q>What is the purpose of Bitcoin?</sub q>\n",
      "<sub a>Bitcoin serves as a decentralized digital currency.</sub a>\n",
      "<sub q>What does decentralized mean?</sub q>\n",
      "<sub a>Decentralized means it operates without a central authority or single administrator.</sub a>\n",
      "<FIN>Bitcoin is a decentralized digital currency that operates without a central authority.</FIN>\n",
      "\n",
      "Question: \u001b[33;1m\u001b[1;3m{question}\u001b[0m\n"
     ]
    }
   ],
   "source": [
    "# Get the cot_prompt to use - you can modify this!\n",
    "cot_prompt = hub.pull(\"hesencuc/question-decomposition\")\n",
    "cot_prompt.pretty_print()"
   ]
  },
  {
   "cell_type": "code",
   "execution_count": 5,
   "metadata": {},
   "outputs": [],
   "source": [
    "# Choose the LLM that will drive the agent\n",
    "llm = AzureChatOpenAI(\n",
    "    openai_api_version=\"2024-06-01\",\n",
    "    azure_deployment=\"gpt-4o\",\n",
    ")"
   ]
  },
  {
   "cell_type": "code",
   "execution_count": 6,
   "metadata": {},
   "outputs": [
    {
     "data": {
      "text/plain": [
       "AIMessage(content='<sub q>What factors are typically considered when determining a life insurance policy rating?</sub q>\\n<sub a>Factors include age, gender, smoking habits, health status, and lifestyle.</sub a>\\n\\n<sub q>How does smoking affect life insurance policy ratings?</sub q>\\n<sub a>Smoking generally results in higher premiums or lower policy ratings due to increased health risks.</sub a>\\n\\n<sub q>What are the typical age categories for life insurance policy ratings?</sub q>\\n<sub a>Age categories often include ranges such as under 30, 30-39, 40-49, 50-59, etc.</sub a>\\n\\n<sub q>What is the typical classification for someone who smokes cigars occasionally?</sub q>\\n<sub a>Occasional cigar smokers may be classified differently than regular smokers, but this varies by insurer. Some may still consider them smokers.</sub a>\\n\\n<sub q>How might a 51-year-old male who smokes 15 cigars a year be classified by a life insurance company?</sub q>\\n<sub a>He might be classified as a smoker due to any tobacco use, but some companies might offer non-smoker rates if the use is infrequent and the applicant is otherwise healthy.</sub a>\\n\\n<FIN>A 51-year-old male who smokes 15 cigars a year might be classified as a smoker, affecting his life insurance policy rating, although some insurers may offer non-smoker rates depending on their criteria and his overall health.</FIN>', response_metadata={'token_usage': {'completion_tokens': 313, 'prompt_tokens': 269, 'total_tokens': 582}, 'model_name': 'gpt-4o-2024-08-06', 'system_fingerprint': 'fp_67802d9a6d', 'prompt_filter_results': [{'prompt_index': 0, 'content_filter_results': {}}], 'finish_reason': 'stop', 'logprobs': None, 'content_filter_results': {'hate': {'filtered': False, 'severity': 'safe'}, 'self_harm': {'filtered': False, 'severity': 'safe'}, 'sexual': {'filtered': False, 'severity': 'safe'}, 'violence': {'filtered': False, 'severity': 'safe'}}}, id='run-b87f7596-cd9a-4f80-b6b3-2f52870670a2-0', usage_metadata={'input_tokens': 269, 'output_tokens': 313, 'total_tokens': 582})"
      ]
     },
     "execution_count": 6,
     "metadata": {},
     "output_type": "execute_result"
    }
   ],
   "source": [
    "chain = cot_prompt | llm\n",
    "chain.invoke({\"question\": \"A 51 year old male who smokes 15 cigars a year. What life insurance policy rating should be given to this person? \"}) "
   ]
  }
 ],
 "metadata": {
  "kernelspec": {
   "display_name": ".venv",
   "language": "python",
   "name": "python3"
  },
  "language_info": {
   "codemirror_mode": {
    "name": "ipython",
    "version": 3
   },
   "file_extension": ".py",
   "mimetype": "text/x-python",
   "name": "python",
   "nbconvert_exporter": "python",
   "pygments_lexer": "ipython3",
   "version": "3.12.1"
  }
 },
 "nbformat": 4,
 "nbformat_minor": 2
}
