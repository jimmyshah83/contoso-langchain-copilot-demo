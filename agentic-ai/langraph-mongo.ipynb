{
 "cells": [
  {
   "cell_type": "code",
   "execution_count": 1,
   "id": "fe301c89",
   "metadata": {},
   "outputs": [],
   "source": [
    "%%capture --no-stderr\n",
    "%pip install --quiet -U langgraph langchain-community langchain-openai pymongo[srv]==3.12"
   ]
  },
  {
   "cell_type": "code",
   "execution_count": 2,
   "id": "48fdf037",
   "metadata": {},
   "outputs": [
    {
     "data": {
      "text/plain": [
       "True"
      ]
     },
     "execution_count": 2,
     "metadata": {},
     "output_type": "execute_result"
    }
   ],
   "source": [
    "from dotenv import load_dotenv\n",
    "load_dotenv()"
   ]
  },
  {
   "cell_type": "markdown",
   "id": "60947772",
   "metadata": {},
   "source": [
    "### Define State"
   ]
  },
  {
   "cell_type": "code",
   "execution_count": 3,
   "id": "9e0395e1",
   "metadata": {},
   "outputs": [],
   "source": [
    "from typing_extensions import TypedDict\n",
    "from typing import List\n",
    "\n",
    "class SalesDataResponse(TypedDict):\n",
    "    \"\"\"Response structure for sales data queries.\"\"\"\n",
    "    count: int\n",
    "    query: dict\n",
    "    sales: List[dict]\n",
    "\n",
    "class QueryExecute(TypedDict):\n",
    "    input: str\n",
    "    query: dict\n",
    "    response: SalesDataResponse\n",
    "    snow_response: str"
   ]
  },
  {
   "cell_type": "markdown",
   "id": "97129ccc",
   "metadata": {},
   "source": [
    "### Define tools"
   ]
  },
  {
   "cell_type": "code",
   "execution_count": 4,
   "id": "76b904f1",
   "metadata": {},
   "outputs": [],
   "source": [
    "from langchain_core.tools import tool\n",
    "from pymongo import MongoClient\n",
    "import os\n",
    "import json\n",
    "from bson import json_util\n",
    "from datetime import datetime\n",
    "import ast\n",
    "\n",
    "@tool\n",
    "def get_sales_data(mongo_query: dict = None) -> SalesDataResponse:\n",
    "    \"\"\"Get sales data from MongoDB using flexible query parameters.\n",
    "    \n",
    "    Args:\n",
    "        mongo_query: Custom MongoDB query dict to execute directly\n",
    "    \"\"\"    \n",
    "    \n",
    "    client = None\n",
    "    try:\n",
    "        client = MongoClient(os.getenv(\"MONGODB_URI\"))\n",
    "        database = client.get_database(\"mongodbVSCodePlaygroundDB\")\n",
    "        collection = database.get_collection(\"sales\")\n",
    "        \n",
    "        # Use simple find query (handles $or, $and, $in, $ne, etc.)\n",
    "        cursor = collection.find(mongo_query if mongo_query else {})\n",
    "        \n",
    "        sales_data = list(cursor)\n",
    "        \n",
    "        # Convert results to a readable format (handle MongoDB ObjectId and Date objects)\n",
    "        results = json.loads(json_util.dumps(sales_data))\n",
    "        \n",
    "        if not sales_data:\n",
    "            return f\"No sales found for query: {mongo_query}\"  \n",
    "        \n",
    "        return SalesDataResponse(\n",
    "            count=len(sales_data),\n",
    "            query=mongo_query,\n",
    "            sales=results\n",
    "        )\n",
    "    \n",
    "    except Exception as e:\n",
    "        return f\"Error retrieving sales data: {str(e)}\"\n",
    "    \n",
    "    finally:\n",
    "        if client:\n",
    "            client.close()"
   ]
  },
  {
   "cell_type": "code",
   "execution_count": 5,
   "id": "dc93eadf",
   "metadata": {},
   "outputs": [],
   "source": [
    "# Mock approval/denial API tools\n",
    "@tool\n",
    "def approve_request(data: dict):\n",
    "    \"\"\"Approve a request based on the given data.\n",
    "    \n",
    "    Args:\n",
    "        data: The data supporting the approval decision\n",
    "    \"\"\"\n",
    "    return f\"Request APPROVED with {data['count']} matching records found\"\n",
    "\n",
    "@tool\n",
    "def deny_request(reason: str):\n",
    "    \"\"\"Deny a request with a provided reason.\n",
    "    \n",
    "    Args:\n",
    "        reason: The reason for denial\n",
    "    \"\"\"\n",
    "    return f\"Request DENIED. Reason: {reason}\""
   ]
  },
  {
   "cell_type": "markdown",
   "id": "0b4c0aaf",
   "metadata": {},
   "source": [
    "### Execution agent"
   ]
  },
  {
   "cell_type": "code",
   "execution_count": 6,
   "id": "583192fb",
   "metadata": {},
   "outputs": [],
   "source": [
    "from langchain_openai import AzureChatOpenAI\n",
    "from langgraph.prebuilt import create_react_agent\n",
    "\n",
    "# Custom prompt for MongoDB query processing\n",
    "prompt = \"\"\"\n",
    "You are a MongoDB query execution agent. \n",
    "When provided with a specific MongoDB query, you must execute it exactly as given using the get_sales_data tool.\n",
    "Do not modify the query - use it exactly as provided.\n",
    "Return the results from the database query.\n",
    "\"\"\"\n",
    "\n",
    "# Choose the LLM that will drive the agent\n",
    "llm = AzureChatOpenAI(\n",
    "    azure_endpoint=os.environ[\"AZURE_OPENAI_ENDPOINT\"],\n",
    "    azure_deployment=os.environ[\"AZURE_OPENAI_DEPLOYMENT_NAME\"],\n",
    "    openai_api_version=\"2024-12-01-preview\",\n",
    ")\n",
    "\n",
    "agent_executor = create_react_agent(model=llm, tools=[get_sales_data], prompt=prompt)"
   ]
  },
  {
   "cell_type": "markdown",
   "id": "18d0b798",
   "metadata": {},
   "source": [
    "### Define MongoDB Query Agent"
   ]
  },
  {
   "cell_type": "code",
   "execution_count": 7,
   "id": "57ead0e2",
   "metadata": {},
   "outputs": [],
   "source": [
    "from langchain_openai import AzureChatOpenAI\n",
    "from langchain_core.prompts import ChatPromptTemplate\n",
    "from datetime import datetime\n",
    "        \n",
    "schema_info = \"\"\"\n",
    "    MongoDB Collection Schema:\n",
    "    {\n",
    "        'item': string,      // Product identifier like 'abc', 'xyz', etc.\n",
    "        'price': number,     // Price of the item (e.g., 10, 7.5)\n",
    "        'quantity': number,  // Number of items sold (e.g., 5, 10)\n",
    "        'date': Date     // Date of the sale in ISO format \n",
    "    }\n",
    "    \"\"\"\n",
    "    \n",
    "query_prompt = ChatPromptTemplate.from_messages(\n",
    "    [\n",
    "        (\n",
    "            \"system\",\n",
    "            \"\"\"\n",
    "            You are a MongoDB query assistant. Based on user requests, generate appropriate MongoDB queries.\n",
    "        {schema_info}\n",
    "\n",
    "        Analyze the user query, determine what information they need from the sales data, and formulate a MongoDB query dictionary.\n",
    "        Your response should be a valid Python dictionary that can be used as a MongoDB query.\n",
    "        \n",
    "        IMPORTANT: Return ONLY the Python dictionary without any additional text, markdown formatting, or code blocks.\n",
    "        \n",
    "        For date queries in 2014, use this format:\n",
    "        {{\"date\": {{\"$gte\": \"2014-01-01T00:00:00.000Z\", \"$lt\": \"2015-01-01T00:00:00.000Z\"}}}}\n",
    "        \n",
    "        For item queries, use this format:\n",
    "        {{\"item\": \"xyz\"}}\n",
    "        \n",
    "        For combined queries, use this format:\n",
    "        {{\"item\": \"xyz\", \"date\": {{\"$gte\": \"2014-01-01T00:00:00.000Z\", \"$lt\": \"2015-01-01T00:00:00.000Z\"}}}}\n",
    "\n",
    "        Be specific and precise with your queries. Always use ISO date strings for date comparisons.\n",
    "    \"\"\",\n",
    "        ),\n",
    "        (\"placeholder\", \"{messages}\"),\n",
    "    ]\n",
    ")\n",
    "\n",
    "query_agent = query_prompt | llm"
   ]
  },
  {
   "cell_type": "markdown",
   "id": "3aaaa502",
   "metadata": {},
   "source": [
    "### Define an SNOW agent"
   ]
  },
  {
   "cell_type": "code",
   "execution_count": 8,
   "id": "48e26766",
   "metadata": {},
   "outputs": [],
   "source": [
    "snow_prompt = \"\"\"\n",
    "You are an approval agent that decides whether to approve or deny requests based on query results.\n",
    "\n",
    "Rules:\n",
    "- If the number of records found is greater than 0, you MUST call the approve_request tool with the data\n",
    "- If the number of records found is 0, you MUST call the deny_request tool with a reason\n",
    "\n",
    "Always use the appropriate tool to make your decision. Do not just respond with text.\n",
    "\"\"\"\n",
    "\n",
    "snow_agent = create_react_agent(model=llm, tools=[approve_request, deny_request], prompt=snow_prompt)"
   ]
  },
  {
   "cell_type": "markdown",
   "id": "3126b7dd",
   "metadata": {},
   "source": [
    "### Define the steps "
   ]
  },
  {
   "cell_type": "code",
   "execution_count": 9,
   "id": "fc15698c",
   "metadata": {},
   "outputs": [],
   "source": [
    "import ast\n",
    "\n",
    "async def mongo_step(state: QueryExecute):\n",
    "    \"\"\"Generate MongoDB query based on user input.\"\"\"\n",
    "\n",
    "    mongo_response = await query_agent.ainvoke({\n",
    "        \"messages\": [(\"user\", state[\"input\"])],\n",
    "        \"schema_info\": schema_info \n",
    "    })\n",
    "    \n",
    "    # Parse the response content as a Python dictionary\n",
    "    query_str = mongo_response.content.strip()\n",
    "    query_dict = ast.literal_eval(query_str)\n",
    "    \n",
    "    return {\"query\": query_dict}\n",
    "\n",
    "async def execute_step(state: QueryExecute):\n",
    "    \"\"\"Execute the MongoDB query using the agent executor.\"\"\"\n",
    "    \n",
    "    query = state[\"query\"]\n",
    "    execution_prompt = f\"Execute this exact MongoDB query: {query}. Use the get_sales_data tool with this query and return the results.\"\n",
    "\n",
    "    # Use the agent executor with the specific query\n",
    "    response = await agent_executor.ainvoke({\n",
    "        \"messages\": [(\"user\", execution_prompt)]\n",
    "    })\n",
    "    \n",
    "    # Extract tool result from get_sales_data tool call\n",
    "    for message in response[\"messages\"]:\n",
    "        if hasattr(message, 'name') and message.name == 'get_sales_data':\n",
    "            content = message.content\n",
    "            # Parse JSON string response to dictionary if needed\n",
    "            if isinstance(content, str) and content.startswith('{'):\n",
    "                try:\n",
    "                    content = ast.literal_eval(content)\n",
    "                except:\n",
    "                    pass\n",
    "            return {\"response\": content}\n",
    "    \n",
    "    # Fallback: return the last message content\n",
    "    return {\"response\": response[\"messages\"][-1].content}\n",
    "\n",
    "async def snow_step(state: QueryExecute):\n",
    "    \"\"\"Decide whether to approve or deny the request based on the query results.\"\"\"\n",
    "    response = state[\"response\"]\n",
    "    \n",
    "    # Extract count from response\n",
    "    count = response.get(\"count\", 0) if isinstance(response, dict) else 0\n",
    "    \n",
    "    # Create message based on count\n",
    "    if count > 0:\n",
    "        message = f\"Found {count} matching records. Approve this request using the approve_request tool with data: {response}\"\n",
    "    else:\n",
    "        message = f\"Found 0 matching records. Deny this request using the deny_request tool with reason: 'No matching records found'\"\n",
    "    \n",
    "    output = await snow_agent.ainvoke({\"messages\": [(\"user\", message)]})\n",
    "    \n",
    "    return {\"snow_response\": output[\"messages\"][-1].content}"
   ]
  },
  {
   "cell_type": "markdown",
   "id": "5daca2c4",
   "metadata": {},
   "source": [
    "### Create the Graph"
   ]
  },
  {
   "cell_type": "code",
   "execution_count": 10,
   "id": "a0c81bba",
   "metadata": {},
   "outputs": [],
   "source": [
    "from langgraph.graph import END\n",
    "from langgraph.graph import StateGraph, START\n",
    "\n",
    "workflow = StateGraph(QueryExecute)\n",
    "\n",
    "workflow.add_node(\"mongo\", mongo_step)\n",
    "workflow.add_node(\"execute\", execute_step)\n",
    "workflow.add_node(\"snow\", snow_step)\n",
    "\n",
    "workflow.add_edge(START, \"mongo\")\n",
    "workflow.add_edge(\"mongo\", \"execute\")\n",
    "workflow.add_edge(\"execute\", \"snow\")\n",
    "workflow.add_edge(\"snow\", END)\n",
    "\n",
    "app = workflow.compile()"
   ]
  },
  {
   "cell_type": "code",
   "execution_count": 11,
   "id": "70cf6f41",
   "metadata": {},
   "outputs": [
    {
     "data": {
      "image/png": "[encoded data removed]",
      "text/plain": [
       "<IPython.core.display.Image object>"
      ]
     },
     "metadata": {},
     "output_type": "display_data"
    }
   ],
   "source": [
    "from IPython.display import Image, display\n",
    "\n",
    "display(Image(app.get_graph(xray=True).draw_mermaid_png()))"
   ]
  },
  {
   "cell_type": "code",
   "execution_count": 12,
   "id": "6bb1531d",
   "metadata": {},
   "outputs": [
    {
     "name": "stdout",
     "output_type": "stream",
     "text": [
      "Full response:\n",
      "{'input': 'How many xyz items were sold?', 'query': {'item': 'xyz'}, 'response': {'count': 2, 'query': {'item': 'xyz'}, 'sales': [{'_id': {'$oid': '6837860f55e9e6698ee5a770'}, 'item': 'xyz', 'price': 5, 'quantity': 10, 'date': {'$date': '2014-03-15T09:00:00Z'}}, {'_id': {'$oid': '6837860f55e9e6698ee5a771'}, 'item': 'xyz', 'price': 5, 'quantity': 20, 'date': {'$date': '2014-04-04T11:21:39.736Z'}}]}, 'snow_response': 'The request has been approved with the provided data containing 2 matching records.'}\n",
      "\n",
      "Query generated:\n",
      "{'item': 'xyz'}\n",
      "\n",
      "Execution response:\n",
      "{'count': 2, 'query': {'item': 'xyz'}, 'sales': [{'_id': {'$oid': '6837860f55e9e6698ee5a770'}, 'item': 'xyz', 'price': 5, 'quantity': 10, 'date': {'$date': '2014-03-15T09:00:00Z'}}, {'_id': {'$oid': '6837860f55e9e6698ee5a771'}, 'item': 'xyz', 'price': 5, 'quantity': 20, 'date': {'$date': '2014-04-04T11:21:39.736Z'}}]}\n",
      "\n",
      "SNOW response:\n",
      "The request has been approved with the provided data containing 2 matching records.\n"
     ]
    },
    {
     "data": {
      "text/plain": [
       "{'input': 'How many xyz items were sold?',\n",
       " 'query': {'item': 'xyz'},\n",
       " 'response': {'count': 2,\n",
       "  'query': {'item': 'xyz'},\n",
       "  'sales': [{'_id': {'$oid': '6837860f55e9e6698ee5a770'},\n",
       "    'item': 'xyz',\n",
       "    'price': 5,\n",
       "    'quantity': 10,\n",
       "    'date': {'$date': '2014-03-15T09:00:00Z'}},\n",
       "   {'_id': {'$oid': '6837860f55e9e6698ee5a771'},\n",
       "    'item': 'xyz',\n",
       "    'price': 5,\n",
       "    'quantity': 20,\n",
       "    'date': {'$date': '2014-04-04T11:21:39.736Z'}}]},\n",
       " 'snow_response': 'The request has been approved with the provided data containing 2 matching records.'}"
      ]
     },
     "execution_count": 12,
     "metadata": {},
     "output_type": "execute_result"
    }
   ],
   "source": [
    "# Test the agent with some example queries\n",
    "\n",
    "async def test_query():\n",
    "    response = await app.ainvoke({\"input\": \"How many xyz items were sold?\"})\n",
    "    print(\"Full response:\")\n",
    "    print(response)\n",
    "    print(\"\\nQuery generated:\")\n",
    "    print(response[\"query\"])\n",
    "    print(\"\\nExecution response:\")\n",
    "    print(response[\"response\"])\n",
    "    print(\"\\nSNOW response:\")\n",
    "    print(response[\"snow_response\"])\n",
    "    return response\n",
    "\n",
    "# Run the async function\n",
    "await test_query()\n"
   ]
  }
 ],
 "metadata": {
  "kernelspec": {
   "display_name": ".venv (3.13.3)",
   "language": "python",
   "name": "python3"
  },
  "language_info": {
   "codemirror_mode": {
    "name": "ipython",
    "version": 3
   },
   "file_extension": ".py",
   "mimetype": "text/x-python",
   "name": "python",
   "nbconvert_exporter": "python",
   "pygments_lexer": "ipython3",
   "version": "3.13.3"
  }
 },
 "nbformat": 4,
 "nbformat_minor": 5
}
